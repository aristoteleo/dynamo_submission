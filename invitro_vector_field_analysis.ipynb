{
 "cells": [
  {
   "cell_type": "code",
   "execution_count": 1,
   "metadata": {},
   "outputs": [
    {
     "data": {
      "text/html": [
       "<style>.container { width:90% !important; }</style>"
      ],
      "text/plain": [
       "<IPython.core.display.HTML object>"
      ]
     },
     "metadata": {},
     "output_type": "display_data"
    },
    {
     "name": "stderr",
     "output_type": "stream",
     "text": [
      "/home/xqiu/.local/lib/python3.6/site-packages/statsmodels/tools/_testing.py:19: FutureWarning: pandas.util.testing is deprecated. Use the functions in the public API at pandas.testing instead.\n",
      "  import pandas.util.testing as tm\n"
     ]
    },
    {
     "data": {
      "text/plain": [
       "'0.0+a7e7081.dirty'"
      ]
     },
     "execution_count": 1,
     "metadata": {},
     "output_type": "execute_result"
    }
   ],
   "source": [
    "from IPython.core.display import display, HTML\n",
    "display(HTML(\"<style>.container { width:90% !important; }</style>\"))\n",
    "%matplotlib inline\n",
    "\n",
    "import numpy as np \n",
    "import pandas as pd \n",
    "import os, glob\n",
    "\n",
    "import dynamo as dyn\n",
    "dyn.__version__"
   ]
  },
  {
   "cell_type": "code",
   "execution_count": 2,
   "metadata": {},
   "outputs": [],
   "source": [
    "adata = dyn.read('/home/xqiu/proj/Aristotle/data/hsc_fate/invitro_after_cell_velocities.h5ad')"
   ]
  },
  {
   "cell_type": "code",
   "execution_count": 3,
   "metadata": {},
   "outputs": [],
   "source": [
    "%run ./hsc_related_genes.ipynb"
   ]
  },
  {
   "cell_type": "code",
   "execution_count": 5,
   "metadata": {},
   "outputs": [
    {
     "name": "stdout",
     "output_type": "stream",
     "text": [
      " Ma\n",
      " Ba\n",
      " Eos\n",
      " Mk\n",
      " Mo\n",
      " Neu\n",
      " Ly\n",
      " migDC\n",
      " pDC\n",
      " Er\n",
      " cDC\n",
      " B\n",
      " T\n",
      " NK\n",
      " Mac\n",
      " moDC\n",
      "\n"
     ]
    }
   ],
   "source": [
    "print(' Ma\\n', \"Ba\\n\", \"Eos\\n\", \"Mk\\n\", \"Mo\\n\", \"Neu\\n\", \"Ly\\n\", \"migDC\\n\", \"pDC\\n\", \"Er\\n\", \"cDC\\n\", \"B\\n\", \"T\\n\", \"NK\\n\", \"Mac\\n\", \"moDC\\n\")"
   ]
  },
  {
   "cell_type": "code",
   "execution_count": null,
   "metadata": {},
   "outputs": [
    {
     "name": "stdout",
     "output_type": "stream",
     "text": [
      "Sampling control points based on data velocity magnitude...\n",
      "Time elapsed for 'con_K': 1.1687 s\n",
      "Time elapsed for 'con_K': 20.3601 s\n",
      "Time elapsed for 'con_K': 0.3409 s\n",
      "\n",
      "iterate: 0, gamma: 0.900, energy change rate: 1.000e+00, sigma2=6.031e-02\n",
      "Time elapsed for computing lhs and rhs: 31.711461 s\n",
      "Time elapsed for 'lstsq_solver': 6.3734 s\n",
      "\n",
      "iterate: 1, gamma: 0.940, energy change rate: 2.206e-01, sigma2=2.627e-02\n",
      "Time elapsed for computing lhs and rhs: 31.087604 s\n",
      "Time elapsed for 'lstsq_solver': 6.1076 s\n",
      "\n",
      "iterate: 2, gamma: 0.950, energy change rate: 2.464e+00, sigma2=6.712e-02\n",
      "Time elapsed for computing lhs and rhs: 28.777503 s\n",
      "Time elapsed for 'lstsq_solver': 6.0062 s\n",
      "\n",
      "iterate: 3, gamma: 0.950, energy change rate: 1.653e+00, sigma2=2.784e-02\n",
      "Time elapsed for computing lhs and rhs: 28.519927 s\n",
      "Time elapsed for 'lstsq_solver': 5.9810 s\n",
      "\n",
      "iterate: 4, gamma: 0.950, energy change rate: 3.540e-02, sigma2=2.484e-02\n",
      "Time elapsed for computing lhs and rhs: 29.568273 s\n",
      "Time elapsed for 'lstsq_solver': 5.9882 s\n",
      "\n",
      "iterate: 5, gamma: 0.950, energy change rate: 5.58e-02, sigma2=2.655e-02\n",
      "Time elapsed for computing lhs and rhs: 29.034203 s\n",
      "Time elapsed for 'lstsq_solver': 5.8800 s\n",
      "\n",
      "iterate: 6, gamma: 0.950, energy change rate: 1.5e-02, sigma2=2.723e-02\n",
      "Time elapsed for computing lhs and rhs: 28.538985 s\n",
      "Time elapsed for 'lstsq_solver': 5.9724 s\n",
      "\n",
      "iterate: 7, gamma: 0.950, energy change rate: 6.902e-02, sigma2=2.454e-02\n",
      "Time elapsed for computing lhs and rhs: 29.205424 s\n",
      "Time elapsed for 'lstsq_solver': 5.8857 s\n",
      "\n",
      "iterate: 8, gamma: 0.950, energy change rate: 2.778e-01, sigma2=2.801e-02\n",
      "Time elapsed for computing lhs and rhs: 28.581384 s\n",
      "Time elapsed for 'lstsq_solver': 5.8711 s\n",
      "\n",
      "iterate: 9, gamma: 0.950, energy change rate: 2.147e-01, sigma2=2.450e-02\n",
      "Time elapsed for computing lhs and rhs: 29.326938 s\n",
      "Time elapsed for 'lstsq_solver': 5.9705 s\n",
      "\n",
      "iterate: 10, gamma: 0.950, energy change rate: 5.641e-03, sigma2=2.423e-02\n",
      "Time elapsed for computing lhs and rhs: 29.088604 s\n",
      "Time elapsed for 'lstsq_solver': 6.1044 s\n",
      "\n",
      "iterate: 11, gamma: 0.950, energy change rate: 5.690e-03, sigma2=2.484e-02\n",
      "Time elapsed for computing lhs and rhs: 28.887572 s\n",
      "Time elapsed for 'lstsq_solver': 5.9373 s\n",
      "\n",
      "iterate: 12, gamma: 0.950, energy change rate: 3.312e-03, sigma2=2.460e-02\n",
      "Time elapsed for computing lhs and rhs: 29.379785 s\n",
      "Time elapsed for 'lstsq_solver': 5.8803 s\n",
      "\n",
      "iterate: 13, gamma: 0.950, energy change rate: 1.308e-01, sigma2=2.635e-02\n",
      "Time elapsed for computing lhs and rhs: 28.512738 s\n",
      "Time elapsed for 'lstsq_solver': 5.7583 s\n",
      "\n",
      "iterate: 14, gamma: 0.950, energy change rate: 1.529e-01, sigma2=3.361e-02\n",
      "Time elapsed for computing lhs and rhs: 28.751446 s\n",
      "Time elapsed for 'lstsq_solver': 6.0816 s\n",
      "\n",
      "iterate: 15, gamma: 0.950, energy change rate: 2.364e-01, sigma2=2.509e-02\n",
      "Time elapsed for computing lhs and rhs: 28.769679 s\n",
      "Time elapsed for 'lstsq_solver': 5.8723 s\n",
      "\n",
      "iterate: 16, gamma: 0.950, energy change rate: 2.713e-03, sigma2=2.456e-02\n",
      "Time elapsed for computing lhs and rhs: 28.178402 s\n",
      "Time elapsed for 'lstsq_solver': 6.0398 s\n",
      "\n",
      "iterate: 17, gamma: 0.950, energy change rate: 8.043e-03, sigma2=2.408e-02\n",
      "Time elapsed for computing lhs and rhs: 29.612439 s\n",
      "Time elapsed for 'lstsq_solver': 5.8775 s\n",
      "\n",
      "iterate: 18, gamma: 0.950, energy change rate: 3.521e-03, sigma2=2.437e-02\n",
      "Time elapsed for computing lhs and rhs: 29.246988 s\n",
      "Time elapsed for 'lstsq_solver': 5.8952 s\n",
      "\n",
      "iterate: 19, gamma: 0.950, energy change rate: 5.914e-04, sigma2=2.449e-02\n",
      "Time elapsed for computing lhs and rhs: 28.190268 s\n",
      "Time elapsed for 'lstsq_solver': 6.1257 s\n",
      "\n",
      "iterate: 20, gamma: 0.950, energy change rate: 9.038e-02, sigma2=2.766e-02\n",
      "Time elapsed for computing lhs and rhs: 28.913844 s\n",
      "Time elapsed for 'lstsq_solver': 5.9219 s\n",
      "\n",
      "iterate: 21, gamma: 0.950, energy change rate: 8.609e-02, sigma2=2.505e-02\n",
      "Time elapsed for computing lhs and rhs: 28.656428 s\n",
      "Time elapsed for 'lstsq_solver': 5.7823 s\n",
      "\n",
      "iterate: 22, gamma: 0.950, energy change rate: 1.003e+00, sigma2=9.428e+00\n",
      "Time elapsed for computing lhs and rhs: 28.653726 s\n",
      "Time elapsed for 'lstsq_solver': 5.9889 s\n",
      "\n",
      "iterate: 23, gamma: 0.050, energy change rate: 8.616e+02, sigma2=3.574e-02\n",
      "Time elapsed for computing lhs and rhs: 28.621609 s\n",
      "Time elapsed for 'lstsq_solver': 6.1452 s\n",
      "\n",
      "iterate: 24, gamma: 0.050, energy change rate: 2.955e-01, sigma2=1.539e-02\n",
      "Time elapsed for computing lhs and rhs: 32.305164 s\n",
      "Time elapsed for 'lstsq_solver': 5.8943 s\n",
      "\n",
      "iterate: 25, gamma: 0.050, energy change rate: 5.315e-02, sigma2=1.104e-02\n",
      "Time elapsed for computing lhs and rhs: 28.349484 s\n",
      "Time elapsed for 'lstsq_solver': 5.1891 s\n",
      "\n",
      "iterate: 26, gamma: 0.124, energy change rate: 1.599e-01, sigma2=1.048e-02\n",
      "Time elapsed for computing lhs and rhs: 27.981977 s\n",
      "Time elapsed for 'lstsq_solver': 5.2195 s\n",
      "\n",
      "iterate: 27, gamma: 0.445, energy change rate: 2.534e-01, sigma2=1.083e-02\n",
      "Time elapsed for computing lhs and rhs: 27.209062 s\n",
      "Time elapsed for 'lstsq_solver': 5.2324 s\n",
      "\n",
      "iterate: 28, gamma: 0.716, energy change rate: 4.131e-02, sigma2=1.469e-02\n",
      "Time elapsed for computing lhs and rhs: 27.596010 s\n",
      "Time elapsed for 'lstsq_solver': 5.3706 s\n",
      "\n",
      "iterate: 29, gamma: 0.844, energy change rate: 2.675e-02, sigma2=1.781e-02\n",
      "Time elapsed for computing lhs and rhs: 27.713193 s\n",
      "Time elapsed for 'lstsq_solver': 5.5107 s\n"
     ]
    },
    {
     "name": "stderr",
     "output_type": "stream",
     "text": [
      "/home/xqiu/.local/lib/python3.6/site-packages/scipy/optimize/minpack.py:162: RuntimeWarning: The iteration is not making good progress, as measured by the \n",
      "  improvement from the last ten iterations.\n",
      "  warnings.warn(msg, RuntimeWarning)\n",
      "/home/xqiu/.local/lib/python3.6/site-packages/scipy/optimize/minpack.py:162: RuntimeWarning: The iteration is not making good progress, as measured by the \n",
      "  improvement from the last five Jacobian evaluations.\n",
      "  warnings.warn(msg, RuntimeWarning)\n",
      "/home/xqiu/.local/lib/python3.6/site-packages/dynamo-0.0+a7e7081.dirty-py3.6.egg/dynamo/external/ddhodge.py:181: FutureWarning: This location for 'connectivities' is deprecated. It has been moved to .obsp[connectivities], and will not be accesible here in a future version of anndata.\n",
      "  neighbors = adata.uns[neighbor_key][\"connectivities\"]\n",
      "Constructing diffusion graph from reconstructed vector field: 15666it [3:45:41,  1.54s/it]"
     ]
    }
   ],
   "source": [
    "import time\n",
    "t0 = time.perf_counter()\n",
    "dyn.tl.VectorField(adata, basis='umap', dims=2, M=None, beta=0.01, lambda_=100, MaxIter=30, velocity_based_sampling=True, verbose=2, return_vf_object=True)\n",
    "t1 = time.perf_counter()\n",
    "dyn.ext.ddhoge(adata, basis='umap')\n",
    "t2 = time.perf_counter()\n",
    "\n",
    "\n",
    "dyn.pl.kinetic_heatmap(adata, Neu, mode='pseudotime')"
   ]
  },
  {
   "cell_type": "code",
   "execution_count": null,
   "metadata": {},
   "outputs": [],
   "source": [
    "dyn.pl.umap(adata, color='potential')"
   ]
  },
  {
   "cell_type": "code",
   "execution_count": null,
   "metadata": {},
   "outputs": [],
   "source": [
    "dyn.pl.kinetic_heatmap(adata, Neu, mode='pseudotime')"
   ]
  },
  {
   "cell_type": "code",
   "execution_count": null,
   "metadata": {},
   "outputs": [],
   "source": [
    "dyn.pl.kinetic_heatmap(adata, Neu, mode='pseudotime')"
   ]
  },
  {
   "cell_type": "code",
   "execution_count": null,
   "metadata": {},
   "outputs": [],
   "source": [
    "dyn.tl.VectorField(adata, basis='pca', dims=30, M=None, beta=0.01, lambda_=100, MaxIter=30, velocity_based_sampling=True, verbose=2, return_vf_object=True)\n",
    "dyn.ext.ddhoge(adata, basis='pca')"
   ]
  },
  {
   "cell_type": "code",
   "execution_count": null,
   "metadata": {},
   "outputs": [],
   "source": [
    "dyn.tl.divergence(adata, basis='pca', sample_ncells=1000)\n",
    "valid_gene_list = adata[:, adata.var.use_for_dynamo].var.index.intersection(gene_list)\n",
    "dyn.tl.jacobian(adata, source_genes=valid_gene_list, target_genes=valid_gene_list, sample_ncells=1000)\n"
   ]
  },
  {
   "cell_type": "code",
   "execution_count": null,
   "metadata": {},
   "outputs": [],
   "source": [
    "dyn.tl.curl(adata)\n"
   ]
  },
  {
   "cell_type": "code",
   "execution_count": null,
   "metadata": {},
   "outputs": [],
   "source": [
    "dyn.pl.curl(adata)\n"
   ]
  },
  {
   "cell_type": "code",
   "execution_count": null,
   "metadata": {},
   "outputs": [],
   "source": [
    "dyn.pl.divergence(adata)\n"
   ]
  },
  {
   "cell_type": "code",
   "execution_count": null,
   "metadata": {},
   "outputs": [],
   "source": [
    "dyn.pl.jacobian(adata)\n"
   ]
  },
  {
   "cell_type": "code",
   "execution_count": null,
   "metadata": {},
   "outputs": [],
   "source": [
    "dyn.pl.jacobian_kinetics(adata)\n"
   ]
  }
 ],
 "metadata": {
  "kernelspec": {
   "display_name": "Python 3",
   "language": "python",
   "name": "python3"
  },
  "language_info": {
   "codemirror_mode": {
    "name": "ipython",
    "version": 3
   },
   "file_extension": ".py",
   "mimetype": "text/x-python",
   "name": "python",
   "nbconvert_exporter": "python",
   "pygments_lexer": "ipython3",
   "version": "3.6.10"
  }
 },
 "nbformat": 4,
 "nbformat_minor": 4
}
